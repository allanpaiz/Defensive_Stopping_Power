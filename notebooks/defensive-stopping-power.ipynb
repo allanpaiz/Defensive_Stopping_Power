{
 "cells": [
  {
   "cell_type": "markdown",
   "id": "0950e649",
   "metadata": {
    "_cell_guid": "b1076dfc-b9ad-4769-8c92-a6c4dae69d19",
    "_uuid": "8f2839f25d086af736a60e9eeb907d3b93b6e0e5",
    "papermill": {
     "duration": 0.003949,
     "end_time": "2024-01-08T09:17:31.833446",
     "exception": false,
     "start_time": "2024-01-08T09:17:31.829497",
     "status": "completed"
    },
    "tags": []
   },
   "source": [
    "<div style=\"text-align: center; font-size: 30px; text-decoration: underline;\">Defensive Stopping Power : Considering Yards Allowed After Every Contact</div>\n",
    "<div style=\"text-align: center; font-size: 20px;\" markdown=\"1\">Undergraduate Track Submission</div>\n",
    "<div style=\"text-align: center; font-size: 20px;\" markdown=\"1\">Allan Paiz</div> \n",
    "<div style=\"text-align: center; font-size: 20px;\" markdown=\"1\">University of South Carolina</div>\n",
    "<div style=\"text-align: center; font-size: 20px;\" markdown=\"1\">apaiz@email.sc.edu</div>"
   ]
  },
  {
   "cell_type": "markdown",
   "id": "801ceab1",
   "metadata": {
    "papermill": {
     "duration": 0.0032,
     "end_time": "2024-01-08T09:17:31.840303",
     "exception": false,
     "start_time": "2024-01-08T09:17:31.837103",
     "status": "completed"
    },
    "tags": []
   },
   "source": [
    "# 1. Introduction\n",
    "Traditional defensive evaluations in football often rely on basic metrics like tackle and assist counts, which do not fully capture a defensive player's overall impact. Despite the advancements in today's technology, which make it easier to conceive complex ideas, the development of a baseline contact model has been overlooked. This project aims to establish this foundational model.\n",
    "\n",
    "I started with developing a framework to identify **Potential Impact Defenders (PID)** – these are defenders likely to come into contact with the ball carrier. Building upon this, the project introduces an **Artificial Neural Network (ANN)**, named **The Contact Model (TCM)**, which identifies every instance of defender-ball carrier contact during a play. Utilizing The Contact Model, two metrics are created: **Yards Allowed After Contact (YAAC)** and **Defensive Stopping Power (DSP)**. These metrics mirror the concept of Yards After Contact, used for ball carriers, but applies it to defensive players, calculating YAAC from the moment of contact until the play concludes.\n",
    "\n",
    "This project is centered around two principal objectives:\n",
    "\n",
    "1. **Developing The Contact Model**: This involves creating a model capable of identifying contact between the ball carrier and defenders throughout a play.\n",
    "2. **Leveraging The Contact Model**: Utilizing this model, the paper introduces metrics such as Yards Allowed After Contact (YAAC) and Defensive Stopping Power (DSP). "
   ]
  },
  {
   "cell_type": "markdown",
   "id": "f440a385",
   "metadata": {
    "papermill": {
     "duration": 0.00296,
     "end_time": "2024-01-08T09:17:31.846579",
     "exception": false,
     "start_time": "2024-01-08T09:17:31.843619",
     "status": "completed"
    },
    "tags": []
   },
   "source": [
    "# 2. Motivation\n",
    "In the early stages of developing a tackle metric, I encountered a significant roadblock: accurately identifying all instances of defender-ball carrier contact within the available data sets. While this task seems straightforward when watching a game or analyzing game footage, it proves to be far more complex when working solely with tracking data. This complexity initially stalled my original ideas.\n",
    "So the primary goal became to discern any *meaningful* defender-ball carrier contact during a play. One silver lining in the tracking data is the *first_contact* flag within the *event* column. However, a closer examination revealed several limitations of the *first_contact* flag:\n",
    "1. **Lack of Defender Identification**: While this flag indicates the initial contact, it fails to specify the defender involved.\n",
    "2. **Inconsistent Definition** (See *Figure 1*): The criteria for what constitutes *first_contact* varies widely between plays. The variation reflects the nature of tackles in football, ranging from minimal touches like fingertip contacts to full body extensions, bear hugs, and everything in between.\n",
    "3. **No Subsequent Contacts**: The flag only marks the first instance of contact and overlooks any subsequent interactions. This limitation significantly undermines the ability to represent the dynamics of a play.\n",
    "\n",
    "<div style=\"width: 75%; text-align: center; margin-top: 1em; margin-bottom: 2em; margin: 0 auto;\">\n",
    "  <img src=\"https://raw.githubusercontent.com/allanpaiz/Defensive_Stopping_Power/main/figures/first_contact.gif\">\n",
    "</div>\n",
    "<div style=\"text-align: center;\" markdown=\"1\"> <strong>Figure 1.</strong> Showing the variety of <em>first_contact</em> triggers. </div>"
   ]
  },
  {
   "cell_type": "markdown",
   "id": "590e6f66",
   "metadata": {
    "papermill": {
     "duration": 0.002969,
     "end_time": "2024-01-08T09:17:31.852824",
     "exception": false,
     "start_time": "2024-01-08T09:17:31.849855",
     "status": "completed"
    },
    "tags": []
   },
   "source": [
    "# 3. Developing The Contact Model\n",
    "**The Contact Model (TCM)**, an **Artificial Neural Network (ANN)**, involves identifying and classifying defenders based on their potential impact on the ball carrier. Using this classification, TCM pinpoints moments of defender-ball carrier contact throughout a play.\n",
    "\n",
    "### 3.1 Potential Impact Defender \n",
    "To enhance the *first_contact* flag, I needed to identify defenders who were in contact with the ball carrier and possessed the characteristics to make *meaningful* contact—contact that resulted in some form of recognition. **Potential Impact Defenders (PID)** are those defenders who have a high likelihood of being in contact and influencing the ball carrier's progress during a play. The primary criteria for determining a PID are:\n",
    "1. **Proximity to the Ball Carrier**: Identifying the closest defender at the time of *first_contact*, using Euclidean distance.\n",
    "2. **Box Score Association**: The closest defender must be credited in the box score or datasets with a tackle, assist, forced fumble, or missed tackle, demonstrating actual involvement in the play.\n",
    "- Defenders meeting only the proximity criterion, without a direct association with the play's outcome, are labeled as **Non-Impact Defenders (NID)**. (Note: The NID classification is only relevant in the context of *first_contact*.)\n",
    "\n",
    "### 3.2 Feature & Model Motivation\n",
    "Inspired by Dmitry Gordeev and Philipp Singer, the 2020 Big Data Bowl winners with their *The Zoo* solution, I decided to integrate each defender's spatial and velocity data relative to the ball carrier. This model aligns with the concept that 'defenders are trying to tackle the ball carrier,' making, 'the whole setup much more straightforward.' [[1](#a)]\n",
    "The model assesses each defender's relationship with the ball carrier independently, disregarding interactions between defenders and other offensive players. I trained the model on every frame flagged as *first_contact* in the tracking data, focusing on predicting the likelihood of a PID.\n",
    "For its ability to ‘learn anything’ [[2](#b)] I chose an ANN to discern a pattern given the complexity of the data and the myriad variations of two opposing players coming into contact (see *Figure 2*).\n",
    "\n",
    "<div style=\"width: 100%; text-align: center; margin-top: 1em; margin-bottom: 2em; margin: 0 auto;\">\n",
    "  <img src=\"https://raw.githubusercontent.com/allanpaiz/Defensive_Stopping_Power/main/figures/features.png\">\n",
    "</div>\n",
    "<div style=\"text-align: center;\" markdown=\"1\"> <strong>Figure 2.</strong> Spatial and Velocity Heatmaps, data used as features for the model.</div>\n",
    "\n",
    "### 3.3 The Neural Network\n",
    "In the development of The Contact Model the process involved the following steps:\n",
    "- **Data Integration**: Combining all the tracking data to train the model on as many variations as possible.\n",
    "- **Focus on First Contact**: The initial filtering process centered on frames where *first_contact* occurred.\n",
    "- **Standardization of Data**:  Standardizing the direction of tracking data for input simplification.\n",
    "- **Assigning Ball Carrier Data**: Each defender was assigned the spatial data of the plays ball carrier.\n",
    "- **PID Identification and Labeling**: PIDs were identified and labeled, based on the predefined criteria.\n",
    "- **Velocity Vectors and Differences**: Computing and assigning velocity vectors and differences to each defender.\n",
    "\n",
    "Specifically targeting *first_contact* frames the dataset comprised of only defender-ball carrier relationships. Training on 80% of the data, the model returned a 96.48% accuracy in identifying PIDs in the data test split.\n",
    "The neural network draws inspiration from *The Zoo's* Convolution Neural Network, but I opted for a more straightforward approach, creating a feed-forward neural network. The network includes the following:\n",
    "- **Single Hidden Layer**: Utilizing the ReLu Activation Function for its simplicity.\n",
    "- **Loss Function**: Binary Crossentropy, aligning with the binary nature of the target variable.\n",
    "- **Optimizer**: 'Adam' was selected, considering the presumed noisiness of the data.\n",
    "- **Output Layer**: A sigmoid activation function was used, translating the output into a probability.\n",
    "\n",
    "### 3.4 Predicted Contact Score (PCS)\n",
    "Building on the success of TCM, I expanded its application to predict PIDs across all defender-ball carrier relationships in every frame of every play. This led to the introduction of the **Predicted Contact Score (PCS)**.\n",
    "PCS is a metric generated by TCM for each defender in a play. It provides a distribution, indicating the likelihood of a defender being in contact with the ball carrier at any given moment during a play. This score offers a novel perspective on the game, quantifying the defensive effort in a way that traditional metrics can't capture.\n",
    "\n",
    "The charts below showcase TCM and PCS in action (See *Figure 3*). Each line in these graphs represents a defender, and every peak within these lines signifies a moment of defender-ball carrier contact. No two graphs are the same, the diversity showcases the nature of football. Some graphs are dense with lines, while others end quickly. These visualizations are not just data; they're narratives of each play.\n",
    "\n",
    "\n",
    "<div style=\"text-align: center;\" markdown=\"1\"> Using your imagination can you spot the 'tush-push'? </div>\n",
    "\n",
    "<div style=\"width: 100%; text-align: center; margin-top: 1em; margin-bottom: 2em; margin: 0 auto;\">\n",
    "  <img src=\"https://raw.githubusercontent.com/allanpaiz/Defensive_Stopping_Power/main/figures/pcs_distro.png\">\n",
    "</div>\n",
    "<div style=\"text-align: center;\" markdown=\"1\"> <strong>Figure 3.</strong> A visual representation showing the variation in PCS distributions per play.</div>\n"
   ]
  },
  {
   "cell_type": "markdown",
   "id": "a555e146",
   "metadata": {
    "papermill": {
     "duration": 0.002963,
     "end_time": "2024-01-08T09:17:31.859019",
     "exception": false,
     "start_time": "2024-01-08T09:17:31.856056",
     "status": "completed"
    },
    "tags": []
   },
   "source": [
    "# 4. Analysis & Uses\n",
    "The true innovation of The Contact Model lies in its ability to do what we instinctively do with our eyes but in a more structured and quantifiable manner (see *Figure 4*). This play is a great example as it includes a little bit of everything. It starts with an extended arm triggering *first_contact* , two consecutive missed tackles, and it finishes with a combined tackle to end the play.\n",
    "<div style=\"width: 100%; text-align: center; margin-top: 1em; margin-bottom: 2em; margin: 0 auto;\">\n",
    "  <img src=\"https://raw.githubusercontent.com/allanpaiz/Defensive_Stopping_Power/main/figures/graphs.gif\">\n",
    "</div>\n",
    "<div style=\"text-align: center;\" markdown=\"1\"> <strong>Figure 4.</strong> PCS animation with the corresonding play animation. </div>\n",
    "\n",
    "\n",
    "\n",
    "### 4.1 Yards Allowed After Contact (YAAC)\n",
    "Utilizing the PCS distribution, the **Predicted Contact Moment (PCM)** is identified as the peak score within this distribution. **YAAC** is a metric designed to assign responsibility for the play's outcome to any defender identified by The Contact Model. The steps to calculate YAAC are as follows:\n",
    "1. **Spot the Moment of Contact**: The location of the contact on the field, denoted as *contact_X*, is determined using the PCM. \n",
    "    - Note: I only evaluated PCM’s that passed my 25% threshold.  This is an arbitrary value, chosen by stabilizing the distribution of all PCS scores.\n",
    "2. **Final Ball Carrier Location**: At the *event* of a *tackle*, *out-of-bounds*, or *touchdown*, the final position of the ball carrier is recorded as *final_X*.\n",
    "3. **Assigning YAAC**: YAAC is calculated for each defender with a PCM. This calculation represents the distance (in yards) the ball carrier traveled from the point of contact to the conclusion of the play. The formula is as follows:\n",
    "$$\\text{YAAC} = \\text{final}_X - \\text{contact}_X$$\n",
    "\n",
    "<div style=\"width: 100%; text-align: center; margin-top: 1em; margin-bottom: 2em; margin: 0 auto;\">\n",
    "  <img src=\"https://raw.githubusercontent.com/allanpaiz/Defensive_Stopping_Power/main/figures/ContactPredictionGraph.gif\">\n",
    "</div>\n",
    "<div style=\"text-align: center;\" markdown=\"1\"> <strong>Figure 4.</strong> Animation visualizing YAAC.</div>\n",
    "\n",
    "\n",
    "\n",
    "\n",
    "With TCM and YAAC, we can now begin to evaluate players, compare performances, build teams, and generate scouting reports.\n",
    "- *yaac_count*: The total number of PCMs and YAAC calculations, useful as a measure of involvement when paired with snap counts.\n",
    "- *yaac_total*: The sum of all yards allowed by a defender.\n",
    "- *yaac_avg*: The average yards allowed after making contact with a ball carrier.\n",
    "\n",
    "Using gameplay data from weeks 1 through 9, we examine the *yaac_avg* leaderboard for defensive linemen (See *Figure 5*).\n",
    "\n",
    "\n",
    "<div style=\"width: 100%; text-align: center; margin-top: 1em; margin-bottom: 2em; margin: 0 auto;\">\n",
    "  <img src=\"https://raw.githubusercontent.com/allanpaiz/Defensive_Stopping_Power/main/figures/DL_leaderboard.png\">\n",
    "</div>\n",
    "<div style=\"text-align: center;\" markdown=\"1\"> <strong>...</strong></div>\n",
    "<div style=\"width: 100%; text-align: center; margin-top: 1em; margin-bottom: 2em; margin: 0 auto;\">\n",
    "  <img src=\"https://raw.githubusercontent.com/allanpaiz/Defensive_Stopping_Power/main/figures/DL_bottom.png\">\n",
    "</div>\n",
    "<div style=\"text-align: center;\" markdown=\"1\"> <strong>Figure 5.</strong> Defensive Linemen Average YAAC leaderboard.</div>\n",
    "\n",
    "\n",
    "\n",
    "\n",
    "### 4.2 Defensive Stopping Power (DSP)\n",
    "Defensive Stopping Power’s core is developed from YAAC. While YAAC begins as a metric for individual defenders, DSP extends this to evaluate a team's collective efficiency.\n",
    "To compute DSP, we define the following components:\n",
    "- **Team YAAC (TYAAC)**: This is the aggregate of YAAC by all defenders in a single play.\n",
    "- **Yards Allowed (YA)**: The official yardage gained by the offense during a play.\n",
    "- **Yards Allowed Adjusted (YAA)**: The sum of TYAAC and YA, offering a performance based adjustment on Yards Allowed.\n",
    "- **Yards Conceded per Player (YCP)**: YAA divided by the number of defenders involved in the play.\n",
    "- **Defender Ratio (DR)**: The ratio of the number of defenders in a play to the total number of defensive players (11).\n",
    "\n",
    "Calculating DSP:\n",
    "$$\\text{DSP} = \\text{DR} \\times \\text{YCP}$$\n",
    "\n",
    "DSP, as a metric, encapsulates a team's defensive efficiency, shifting focus from individual to collective performance, crucial in this sport which is reliant on team strategy and coordination. It can provide strategic analysis or serve as a benchmark for assessing the strength of your favorite team’s defense and how they compare to the rest of the league. \n",
    "\n",
    "<div style=\"width: 100%; text-align: center; margin-top: 1em; margin-bottom: 2em; margin: 0 auto;\">\n",
    "  <img src=\"https://raw.githubusercontent.com/allanpaiz/Defensive_Stopping_Power/main/figures/team_dsp.png\">\n",
    "</div>\n",
    "<div style=\"text-align: center;\" markdown=\"1\"> <strong>Figure 6.</strong> Team DSP vs Points Allowed (Weeks 1-9).</div>\n"
   ]
  },
  {
   "cell_type": "markdown",
   "id": "73984337",
   "metadata": {
    "papermill": {
     "duration": 0.003094,
     "end_time": "2024-01-08T09:17:31.865299",
     "exception": false,
     "start_time": "2024-01-08T09:17:31.862205",
     "status": "completed"
    },
    "tags": []
   },
   "source": [
    "# 5. Conclusion, Limitations, & Future Work\n",
    "- Refinement of PID Concept: While the PID concept is promising, it requires further refinement with more specific data. The present definition of PID comes with limitations, particularly in accurately identifying the *first_contact* defender and in the assumptions about contact intensity and outcomes. This is a major area needing improvement.\n",
    "- Model Implementation: The Contact Model, given my current experience in deep learning, is basic in its construction yet proves to be effective in its application. Unfortunately, extensive testing, tuning, and validation with larger datasets are outside of the scope of this project.\n",
    "- Path Forward: Future enhancements should focus on redefining defender-ball carrier contact, optimizing TCM parameters, expanding the dataset, and creating new robust defensive metrics.\n",
    "\n",
    "In conclusion, while this project represents an initial step, it sets the stage for deeper understanding and more sophisticated interpretations of an effective NFL defense.\n",
    "\n",
    "[**Github Repository**](https://github.com/allanpaiz/Defensive_Stopping_Power)"
   ]
  },
  {
   "cell_type": "markdown",
   "id": "78b11982",
   "metadata": {
    "papermill": {
     "duration": 0.003008,
     "end_time": "2024-01-08T09:17:31.871593",
     "exception": false,
     "start_time": "2024-01-08T09:17:31.868585",
     "status": "completed"
    },
    "tags": []
   },
   "source": [
    "# 6. Resources\n",
    "* [1]<a id=\"a\"></a> https://medium.com/kaggle-blog/from-football-newbies-to-nfl-data-champions-a-winners-interview-with-the-zoo-391793168714\n",
    "* [2]<a id=\"b\"></a> https://www.youtube.com/watch?v=0QczhVg5HaI"
   ]
  },
  {
   "cell_type": "markdown",
   "id": "bf0e4522",
   "metadata": {
    "papermill": {
     "duration": 0.00294,
     "end_time": "2024-01-08T09:17:31.877808",
     "exception": false,
     "start_time": "2024-01-08T09:17:31.874868",
     "status": "completed"
    },
    "tags": []
   },
   "source": []
  }
 ],
 "metadata": {
  "kaggle": {
   "accelerator": "none",
   "dataSources": [
    {
     "databundleVersionId": 6654553,
     "sourceId": 60305,
     "sourceType": "competition"
    }
   ],
   "dockerImageVersionId": 30626,
   "isGpuEnabled": false,
   "isInternetEnabled": true,
   "language": "python",
   "sourceType": "notebook"
  },
  "kernelspec": {
   "display_name": "Python 3",
   "language": "python",
   "name": "python3"
  },
  "language_info": {
   "codemirror_mode": {
    "name": "ipython",
    "version": 3
   },
   "file_extension": ".py",
   "mimetype": "text/x-python",
   "name": "python",
   "nbconvert_exporter": "python",
   "pygments_lexer": "ipython3",
   "version": "3.10.12"
  },
  "papermill": {
   "default_parameters": {},
   "duration": 4.004292,
   "end_time": "2024-01-08T09:17:32.302009",
   "environment_variables": {},
   "exception": null,
   "input_path": "__notebook__.ipynb",
   "output_path": "__notebook__.ipynb",
   "parameters": {},
   "start_time": "2024-01-08T09:17:28.297717",
   "version": "2.4.0"
  }
 },
 "nbformat": 4,
 "nbformat_minor": 5
}
